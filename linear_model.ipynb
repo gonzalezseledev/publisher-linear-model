{
  "cells": [
    {
      "cell_type": "markdown",
      "metadata": {
        "id": "DzrZcPR9XyCE"
      },
      "source": [
        "# ***PROYECTO DE REGRESIÓN LINEAL SIMPLE APLICADA AL SECTOR EDITORIAL***\n",
        "\n"
      ]
    },
    {
      "cell_type": "markdown",
      "metadata": {
        "id": "kjR0QzpFXv3P"
      },
      "source": [
        "## **Introducción**\n",
        "\n",
        "La regresión lineal simple es un método estadístico que se utiliza para modelar la relación entre una variable dependiente y una variable independiente. En este proyecto, se utilizará la regresión lineal simple para predecir el rating de un libro en función de su precio."
      ]
    },
    {
      "cell_type": "markdown",
      "metadata": {
        "id": "fdcf9XwCfxkN"
      },
      "source": [
        "## **Objetivos**\n",
        "\n",
        "Los objetivos de este proyecto son los siguientes:\n",
        "\n",
        "* Aprender a realizar un análisis de regresión lineal simple\n",
        "* Aplicar la regresión lineal simple para predecir el rating de un libro\n",
        "* Evaluar la precisión de la predicción"
      ]
    },
    {
      "cell_type": "markdown",
      "metadata": {
        "id": "PEO0iAJKgCpV"
      },
      "source": [
        "## **Metodología**\n",
        "\n",
        "Los datos utilizados en este proyecto son los siguientes:\n",
        "\n",
        "* Precio del libro (en euros)\n",
        "* Opinión de los usuarios (puntuación de 1 a 10)\n",
        "* Los datos se han obtenido de [Amazon](https://www.amazon.com/) (precio) y [Goodreads](https://www.goodreads.com/) (opiniones de los usuarios).\n",
        "\n",
        "Para realizar el análisis de regresión lineal simple, hemos utlizado **Python**, **Pandas**, **Numpy**, **Scikit learn** y **Matplotlib**."
      ]
    },
    {
      "cell_type": "code",
      "execution_count": null,
      "metadata": {
        "id": "Cc6sYaB0lMlp"
      },
      "outputs": [],
      "source": [
        "# Importar librerias Pandas, Matplotlib, Numpy, y Scikit Learn (linear_model)\n",
        "\n",
        "import pandas as pd\n",
        "import matplotlib.pyplot as plt\n",
        "import numpy as np\n",
        "from sklearn import linear_model"
      ]
    },
    {
      "cell_type": "code",
      "execution_count": null,
      "metadata": {
        "colab": {
          "base_uri": "https://localhost:8080/",
          "height": 424
        },
        "id": "yTK-K7HQR7gM",
        "outputId": "eaed8ee3-92b9-40e9-a4e5-f295b05d883a"
      },
      "outputs": [
        {
          "output_type": "execute_result",
          "data": {
            "text/plain": [
              "                                   book_title       book_author  \\\n",
              "0                           Da Vinci Code,The        Brown, Dan   \n",
              "1   Harry Potter and the Philosopher's Stone     Rowling, J. K.   \n",
              "2    Harry Potter and the Chamber of Secrets     Rowling, J. K.   \n",
              "3                          Angels and Demons         Brown, Dan   \n",
              "4   Harry Potter and the Order of the Phoenix    Rowling, J. K.   \n",
              "..                                        ...               ...   \n",
              "91   Amber Spyglass,The:His Dark Materials S.   Pullman, Philip   \n",
              "92                     Can You Keep a Secret?  Kinsella, Sophie   \n",
              "93                                 Down Under      Bryson, Bill   \n",
              "94                           Spot of Bother,A      Haddon, Mark   \n",
              "95                                 Dear Fatty      French, Dawn   \n",
              "\n",
              "        publisher_group    binding  book_price  user_rating  \n",
              "0        Transworld Grp  Paperback        7.99          3.0  \n",
              "1        Bloomsbury Grp  Paperback        6.99          2.5  \n",
              "2        Bloomsbury Grp  Paperback        6.99          2.5  \n",
              "3        Transworld Grp  Paperback        7.99          3.0  \n",
              "4        Bloomsbury Grp   Hardback       16.99          6.5  \n",
              "..                  ...        ...         ...          ...  \n",
              "91  Scholastic Ltd. Grp  Paperback        6.99          2.5  \n",
              "92       Transworld Grp  Paperback        7.99          3.0  \n",
              "93       Transworld Grp  Paperback        8.99          3.5  \n",
              "94     Random House Grp  Paperback        7.99          3.0  \n",
              "95     Random House Grp   Hardback       18.99          7.5  \n",
              "\n",
              "[96 rows x 6 columns]"
            ],
            "text/html": [
              "\n",
              "  <div id=\"df-8fd30c16-02e4-46ad-9329-62041f7150d0\" class=\"colab-df-container\">\n",
              "    <div>\n",
              "<style scoped>\n",
              "    .dataframe tbody tr th:only-of-type {\n",
              "        vertical-align: middle;\n",
              "    }\n",
              "\n",
              "    .dataframe tbody tr th {\n",
              "        vertical-align: top;\n",
              "    }\n",
              "\n",
              "    .dataframe thead th {\n",
              "        text-align: right;\n",
              "    }\n",
              "</style>\n",
              "<table border=\"1\" class=\"dataframe\">\n",
              "  <thead>\n",
              "    <tr style=\"text-align: right;\">\n",
              "      <th></th>\n",
              "      <th>book_title</th>\n",
              "      <th>book_author</th>\n",
              "      <th>publisher_group</th>\n",
              "      <th>binding</th>\n",
              "      <th>book_price</th>\n",
              "      <th>user_rating</th>\n",
              "    </tr>\n",
              "  </thead>\n",
              "  <tbody>\n",
              "    <tr>\n",
              "      <th>0</th>\n",
              "      <td>Da Vinci Code,The</td>\n",
              "      <td>Brown, Dan</td>\n",
              "      <td>Transworld Grp</td>\n",
              "      <td>Paperback</td>\n",
              "      <td>7.99</td>\n",
              "      <td>3.0</td>\n",
              "    </tr>\n",
              "    <tr>\n",
              "      <th>1</th>\n",
              "      <td>Harry Potter and the Philosopher's Stone</td>\n",
              "      <td>Rowling, J. K.</td>\n",
              "      <td>Bloomsbury Grp</td>\n",
              "      <td>Paperback</td>\n",
              "      <td>6.99</td>\n",
              "      <td>2.5</td>\n",
              "    </tr>\n",
              "    <tr>\n",
              "      <th>2</th>\n",
              "      <td>Harry Potter and the Chamber of Secrets</td>\n",
              "      <td>Rowling, J. K.</td>\n",
              "      <td>Bloomsbury Grp</td>\n",
              "      <td>Paperback</td>\n",
              "      <td>6.99</td>\n",
              "      <td>2.5</td>\n",
              "    </tr>\n",
              "    <tr>\n",
              "      <th>3</th>\n",
              "      <td>Angels and Demons</td>\n",
              "      <td>Brown, Dan</td>\n",
              "      <td>Transworld Grp</td>\n",
              "      <td>Paperback</td>\n",
              "      <td>7.99</td>\n",
              "      <td>3.0</td>\n",
              "    </tr>\n",
              "    <tr>\n",
              "      <th>4</th>\n",
              "      <td>Harry Potter and the Order of the Phoenix</td>\n",
              "      <td>Rowling, J. K.</td>\n",
              "      <td>Bloomsbury Grp</td>\n",
              "      <td>Hardback</td>\n",
              "      <td>16.99</td>\n",
              "      <td>6.5</td>\n",
              "    </tr>\n",
              "    <tr>\n",
              "      <th>...</th>\n",
              "      <td>...</td>\n",
              "      <td>...</td>\n",
              "      <td>...</td>\n",
              "      <td>...</td>\n",
              "      <td>...</td>\n",
              "      <td>...</td>\n",
              "    </tr>\n",
              "    <tr>\n",
              "      <th>91</th>\n",
              "      <td>Amber Spyglass,The:His Dark Materials S.</td>\n",
              "      <td>Pullman, Philip</td>\n",
              "      <td>Scholastic Ltd. Grp</td>\n",
              "      <td>Paperback</td>\n",
              "      <td>6.99</td>\n",
              "      <td>2.5</td>\n",
              "    </tr>\n",
              "    <tr>\n",
              "      <th>92</th>\n",
              "      <td>Can You Keep a Secret?</td>\n",
              "      <td>Kinsella, Sophie</td>\n",
              "      <td>Transworld Grp</td>\n",
              "      <td>Paperback</td>\n",
              "      <td>7.99</td>\n",
              "      <td>3.0</td>\n",
              "    </tr>\n",
              "    <tr>\n",
              "      <th>93</th>\n",
              "      <td>Down Under</td>\n",
              "      <td>Bryson, Bill</td>\n",
              "      <td>Transworld Grp</td>\n",
              "      <td>Paperback</td>\n",
              "      <td>8.99</td>\n",
              "      <td>3.5</td>\n",
              "    </tr>\n",
              "    <tr>\n",
              "      <th>94</th>\n",
              "      <td>Spot of Bother,A</td>\n",
              "      <td>Haddon, Mark</td>\n",
              "      <td>Random House Grp</td>\n",
              "      <td>Paperback</td>\n",
              "      <td>7.99</td>\n",
              "      <td>3.0</td>\n",
              "    </tr>\n",
              "    <tr>\n",
              "      <th>95</th>\n",
              "      <td>Dear Fatty</td>\n",
              "      <td>French, Dawn</td>\n",
              "      <td>Random House Grp</td>\n",
              "      <td>Hardback</td>\n",
              "      <td>18.99</td>\n",
              "      <td>7.5</td>\n",
              "    </tr>\n",
              "  </tbody>\n",
              "</table>\n",
              "<p>96 rows × 6 columns</p>\n",
              "</div>\n",
              "    <div class=\"colab-df-buttons\">\n",
              "\n",
              "  <div class=\"colab-df-container\">\n",
              "    <button class=\"colab-df-convert\" onclick=\"convertToInteractive('df-8fd30c16-02e4-46ad-9329-62041f7150d0')\"\n",
              "            title=\"Convert this dataframe to an interactive table.\"\n",
              "            style=\"display:none;\">\n",
              "\n",
              "  <svg xmlns=\"http://www.w3.org/2000/svg\" height=\"24px\" viewBox=\"0 -960 960 960\">\n",
              "    <path d=\"M120-120v-720h720v720H120Zm60-500h600v-160H180v160Zm220 220h160v-160H400v160Zm0 220h160v-160H400v160ZM180-400h160v-160H180v160Zm440 0h160v-160H620v160ZM180-180h160v-160H180v160Zm440 0h160v-160H620v160Z\"/>\n",
              "  </svg>\n",
              "    </button>\n",
              "\n",
              "  <style>\n",
              "    .colab-df-container {\n",
              "      display:flex;\n",
              "      gap: 12px;\n",
              "    }\n",
              "\n",
              "    .colab-df-convert {\n",
              "      background-color: #E8F0FE;\n",
              "      border: none;\n",
              "      border-radius: 50%;\n",
              "      cursor: pointer;\n",
              "      display: none;\n",
              "      fill: #1967D2;\n",
              "      height: 32px;\n",
              "      padding: 0 0 0 0;\n",
              "      width: 32px;\n",
              "    }\n",
              "\n",
              "    .colab-df-convert:hover {\n",
              "      background-color: #E2EBFA;\n",
              "      box-shadow: 0px 1px 2px rgba(60, 64, 67, 0.3), 0px 1px 3px 1px rgba(60, 64, 67, 0.15);\n",
              "      fill: #174EA6;\n",
              "    }\n",
              "\n",
              "    .colab-df-buttons div {\n",
              "      margin-bottom: 4px;\n",
              "    }\n",
              "\n",
              "    [theme=dark] .colab-df-convert {\n",
              "      background-color: #3B4455;\n",
              "      fill: #D2E3FC;\n",
              "    }\n",
              "\n",
              "    [theme=dark] .colab-df-convert:hover {\n",
              "      background-color: #434B5C;\n",
              "      box-shadow: 0px 1px 3px 1px rgba(0, 0, 0, 0.15);\n",
              "      filter: drop-shadow(0px 1px 2px rgba(0, 0, 0, 0.3));\n",
              "      fill: #FFFFFF;\n",
              "    }\n",
              "  </style>\n",
              "\n",
              "    <script>\n",
              "      const buttonEl =\n",
              "        document.querySelector('#df-8fd30c16-02e4-46ad-9329-62041f7150d0 button.colab-df-convert');\n",
              "      buttonEl.style.display =\n",
              "        google.colab.kernel.accessAllowed ? 'block' : 'none';\n",
              "\n",
              "      async function convertToInteractive(key) {\n",
              "        const element = document.querySelector('#df-8fd30c16-02e4-46ad-9329-62041f7150d0');\n",
              "        const dataTable =\n",
              "          await google.colab.kernel.invokeFunction('convertToInteractive',\n",
              "                                                    [key], {});\n",
              "        if (!dataTable) return;\n",
              "\n",
              "        const docLinkHtml = 'Like what you see? Visit the ' +\n",
              "          '<a target=\"_blank\" href=https://colab.research.google.com/notebooks/data_table.ipynb>data table notebook</a>'\n",
              "          + ' to learn more about interactive tables.';\n",
              "        element.innerHTML = '';\n",
              "        dataTable['output_type'] = 'display_data';\n",
              "        await google.colab.output.renderOutput(dataTable, element);\n",
              "        const docLink = document.createElement('div');\n",
              "        docLink.innerHTML = docLinkHtml;\n",
              "        element.appendChild(docLink);\n",
              "      }\n",
              "    </script>\n",
              "  </div>\n",
              "\n",
              "\n",
              "<div id=\"df-514c12e0-1be4-43e5-a6fb-ebe77dab51d0\">\n",
              "  <button class=\"colab-df-quickchart\" onclick=\"quickchart('df-514c12e0-1be4-43e5-a6fb-ebe77dab51d0')\"\n",
              "            title=\"Suggest charts\"\n",
              "            style=\"display:none;\">\n",
              "\n",
              "<svg xmlns=\"http://www.w3.org/2000/svg\" height=\"24px\"viewBox=\"0 0 24 24\"\n",
              "     width=\"24px\">\n",
              "    <g>\n",
              "        <path d=\"M19 3H5c-1.1 0-2 .9-2 2v14c0 1.1.9 2 2 2h14c1.1 0 2-.9 2-2V5c0-1.1-.9-2-2-2zM9 17H7v-7h2v7zm4 0h-2V7h2v10zm4 0h-2v-4h2v4z\"/>\n",
              "    </g>\n",
              "</svg>\n",
              "  </button>\n",
              "\n",
              "<style>\n",
              "  .colab-df-quickchart {\n",
              "      --bg-color: #E8F0FE;\n",
              "      --fill-color: #1967D2;\n",
              "      --hover-bg-color: #E2EBFA;\n",
              "      --hover-fill-color: #174EA6;\n",
              "      --disabled-fill-color: #AAA;\n",
              "      --disabled-bg-color: #DDD;\n",
              "  }\n",
              "\n",
              "  [theme=dark] .colab-df-quickchart {\n",
              "      --bg-color: #3B4455;\n",
              "      --fill-color: #D2E3FC;\n",
              "      --hover-bg-color: #434B5C;\n",
              "      --hover-fill-color: #FFFFFF;\n",
              "      --disabled-bg-color: #3B4455;\n",
              "      --disabled-fill-color: #666;\n",
              "  }\n",
              "\n",
              "  .colab-df-quickchart {\n",
              "    background-color: var(--bg-color);\n",
              "    border: none;\n",
              "    border-radius: 50%;\n",
              "    cursor: pointer;\n",
              "    display: none;\n",
              "    fill: var(--fill-color);\n",
              "    height: 32px;\n",
              "    padding: 0;\n",
              "    width: 32px;\n",
              "  }\n",
              "\n",
              "  .colab-df-quickchart:hover {\n",
              "    background-color: var(--hover-bg-color);\n",
              "    box-shadow: 0 1px 2px rgba(60, 64, 67, 0.3), 0 1px 3px 1px rgba(60, 64, 67, 0.15);\n",
              "    fill: var(--button-hover-fill-color);\n",
              "  }\n",
              "\n",
              "  .colab-df-quickchart-complete:disabled,\n",
              "  .colab-df-quickchart-complete:disabled:hover {\n",
              "    background-color: var(--disabled-bg-color);\n",
              "    fill: var(--disabled-fill-color);\n",
              "    box-shadow: none;\n",
              "  }\n",
              "\n",
              "  .colab-df-spinner {\n",
              "    border: 2px solid var(--fill-color);\n",
              "    border-color: transparent;\n",
              "    border-bottom-color: var(--fill-color);\n",
              "    animation:\n",
              "      spin 1s steps(1) infinite;\n",
              "  }\n",
              "\n",
              "  @keyframes spin {\n",
              "    0% {\n",
              "      border-color: transparent;\n",
              "      border-bottom-color: var(--fill-color);\n",
              "      border-left-color: var(--fill-color);\n",
              "    }\n",
              "    20% {\n",
              "      border-color: transparent;\n",
              "      border-left-color: var(--fill-color);\n",
              "      border-top-color: var(--fill-color);\n",
              "    }\n",
              "    30% {\n",
              "      border-color: transparent;\n",
              "      border-left-color: var(--fill-color);\n",
              "      border-top-color: var(--fill-color);\n",
              "      border-right-color: var(--fill-color);\n",
              "    }\n",
              "    40% {\n",
              "      border-color: transparent;\n",
              "      border-right-color: var(--fill-color);\n",
              "      border-top-color: var(--fill-color);\n",
              "    }\n",
              "    60% {\n",
              "      border-color: transparent;\n",
              "      border-right-color: var(--fill-color);\n",
              "    }\n",
              "    80% {\n",
              "      border-color: transparent;\n",
              "      border-right-color: var(--fill-color);\n",
              "      border-bottom-color: var(--fill-color);\n",
              "    }\n",
              "    90% {\n",
              "      border-color: transparent;\n",
              "      border-bottom-color: var(--fill-color);\n",
              "    }\n",
              "  }\n",
              "</style>\n",
              "\n",
              "  <script>\n",
              "    async function quickchart(key) {\n",
              "      const quickchartButtonEl =\n",
              "        document.querySelector('#' + key + ' button');\n",
              "      quickchartButtonEl.disabled = true;  // To prevent multiple clicks.\n",
              "      quickchartButtonEl.classList.add('colab-df-spinner');\n",
              "      try {\n",
              "        const charts = await google.colab.kernel.invokeFunction(\n",
              "            'suggestCharts', [key], {});\n",
              "      } catch (error) {\n",
              "        console.error('Error during call to suggestCharts:', error);\n",
              "      }\n",
              "      quickchartButtonEl.classList.remove('colab-df-spinner');\n",
              "      quickchartButtonEl.classList.add('colab-df-quickchart-complete');\n",
              "    }\n",
              "    (() => {\n",
              "      let quickchartButtonEl =\n",
              "        document.querySelector('#df-514c12e0-1be4-43e5-a6fb-ebe77dab51d0 button');\n",
              "      quickchartButtonEl.style.display =\n",
              "        google.colab.kernel.accessAllowed ? 'block' : 'none';\n",
              "    })();\n",
              "  </script>\n",
              "</div>\n",
              "    </div>\n",
              "  </div>\n"
            ]
          },
          "metadata": {},
          "execution_count": 5
        }
      ],
      "source": [
        "# Creación del Dataframe con Pandas\n",
        "\n",
        "df=pd.read_excel('books.xlsx')\n",
        "df"
      ]
    },
    {
      "cell_type": "code",
      "execution_count": null,
      "metadata": {
        "colab": {
          "base_uri": "https://localhost:8080/",
          "height": 450
        },
        "id": "BJQKqwddldif",
        "outputId": "8992af96-e4d5-4312-c59f-c305ab8231ee"
      },
      "outputs": [
        {
          "output_type": "display_data",
          "data": {
            "text/plain": [
              "<Figure size 640x480 with 1 Axes>"
            ],
            "image/png": "[encoded data removed]"
          },
          "metadata": {}
        }
      ],
      "source": [
        "# Visualización de la data usando Matplotlib\n",
        "\n",
        "df.plot(kind='scatter', x='book_price', y='user_rating')\n",
        "\n",
        "plt.show()"
      ]
    },
    {
      "cell_type": "markdown",
      "metadata": {
        "id": "LpR1czE5YS86"
      },
      "source": [
        "Parece que se ve una tendencia que indica que cuanto mayor es el precio del libro, mas satisfecho está el lector.\n",
        "\n",
        "En base a estos datos, vamos a desarrollar un modelo que nos permita predecir el nivel de satisfaccion de un lector.\n",
        "\n",
        "Es una tarea de regresión lineal simple, donde hay una variable independiente que se utiliza para prever o explicar la variabilidad de una variable dependiente. La ecuación de regresión lineal simple se puede expresar como:\n",
        "\n",
        "`y= m*x + b`\n",
        "\n",
        "*   **y** - La variable dependiente, donde **y** es el rating del usuario\n",
        "*   **m** - La pendiente de la línea (coeficiente de la variable independiente)\n",
        "*   **x** - La variable independiente, donde x es el precio del libro\n",
        "*   **b** - El intercepto\n",
        "\n",
        "En términos prácticos, el intercepto indica el valor de **y** cuando **x** es igual a cero.\n",
        "\n",
        "Para entrenar este modelo y darle unos valores a los parametros que son la m y la b, que se ajusten a la tendencia que vemos en la grafica usaremos la libreria de **Scikit Learn**.\n",
        "\n"
      ]
    },
    {
      "cell_type": "code",
      "execution_count": null,
      "metadata": {
        "colab": {
          "base_uri": "https://localhost:8080/"
        },
        "id": "ZL-RGCS9nOcJ",
        "outputId": "59202a8b-9d79-4296-dd5c-5e9176f21172"
      },
      "outputs": [
        {
          "output_type": "execute_result",
          "data": {
            "text/plain": [
              "(0.13126319271374243, 0.36560488502426697)"
            ]
          },
          "metadata": {},
          "execution_count": 7
        }
      ],
      "source": [
        "# Creación del modelo de Regresion Lineal usando la librería Sklearn y Numpy\n",
        "\n",
        "lin1 = linear_model.LinearRegression()\n",
        "\n",
        "# A continuación, utilizamos np.c_ para concatenar las columnas del DataFrame\n",
        "# df[\"book_price\"] y df[\"user_rating\"] a lo largo del segundo eje.\n",
        "# Esto es necesario porque lin1.fit espera que Xsample e ysample sean arreglos bidimensionales\n",
        "# np.c_ se utiliza para realizar esta concatenación de manera conveniente.\n",
        "\n",
        "Xsample = np.c_[df[\"book_price\"]] # Variable dependiente\n",
        "ysample = np.c_[df[\"user_rating\"]] # Variable independiente\n",
        "lin1.fit(Xsample, ysample)\n",
        "\n",
        "# Se obtienen los coeficientes de la ecuación de regresión lineal.\n",
        "# b representa la ordenada al origen (intercepto), y m representa la pendiente de la línea.\n",
        "\n",
        "b, m = lin1.intercept_[0], lin1.coef_[0][0]\n",
        "\n",
        "# intercept_[0]:\n",
        "\n",
        "# Aquí, intercept_ es un array unidimensional. Aunque este array generalmente\n",
        "# contiene solo un elemento (especialmente en la regresión lineal simple), aún se almacena como un array.\n",
        "# El uso de [0] es para acceder al primer elemento de este array unidimensional.\n",
        "\n",
        "# coef_[0][0]:\n",
        "\n",
        "# En este caso, coef_ es un array bidimensional. Esto se debe a que, incluso en\n",
        "# una regresión lineal simple, la librería scikit-learn estructura los coeficientes\n",
        "# para acomodar potencialmente múltiples variables predictoras (en la regresión\n",
        "# lineal múltiple). El primer [0] accede a la primera fila de este array bidimensional,\n",
        "# que corresponde a los coeficientes de la primera variable predictora (en regresión\n",
        "# lineal simple, es la única variable).\n",
        "# El segundo [0] accede al primer elemento de esta fila, que es el coeficiente de\n",
        "# la variable predictora en un modelo de regresión lineal simple.\n",
        "\n",
        "b, m\n",
        "\n",
        "# Esto significa que el modelo predice el rating del libro en función del precio.\n",
        "# El intercepto representa el valor estimado del rating del libro cuando el precio es cero, y el\n",
        "# coeficiente indica el cambio en el rating del usuario por cada unidad de aumento en el precio."
      ]
    },
    {
      "cell_type": "code",
      "execution_count": null,
      "metadata": {
        "colab": {
          "base_uri": "https://localhost:8080/",
          "height": 346
        },
        "id": "kAp5FDEinZ6c",
        "outputId": "5da5a05f-6a36-4410-f1af-de72d2d8cfa9"
      },
      "outputs": [
        {
          "output_type": "display_data",
          "data": {
            "text/plain": [
              "<Figure size 500x300 with 1 Axes>"
            ],
            "image/png": "[encoded data removed]"
          },
          "metadata": {}
        }
      ],
      "source": [
        "df.plot(kind='scatter', x=\"book_price\", y='user_rating', figsize=(5,3))\n",
        "plt.xlabel(\"book_price\")\n",
        "plt.axis([0, 35, 0, 10])\n",
        "X=np.linspace(0, 35, 10)\n",
        "plt.plot(X, b + m*X, \"red\")\n",
        "plt.text(0, -2, r\"b = 0.13\", fontsize=12, color=\"g\")\n",
        "plt.text(0, -3, r\"m = 0.36\", fontsize=12, color=\"b\")\n",
        "plt.show()"
      ]
    },
    {
      "cell_type": "code",
      "execution_count": null,
      "metadata": {
        "colab": {
          "base_uri": "https://localhost:8080/"
        },
        "id": "WxHOizrO9aHT",
        "outputId": "e70224bf-de5d-4a5a-d27a-c0073cbd0fab"
      },
      "outputs": [
        {
          "output_type": "execute_result",
          "data": {
            "text/plain": [
              "5.615336468077747"
            ]
          },
          "metadata": {},
          "execution_count": 9
        }
      ],
      "source": [
        "# Ahora vamos a usar nuestro algoritmo para predecir el nivel de satisfaccion del lector de cualquier libro del que sepamos su precio\n",
        "\n",
        "book_predicted_price = 15.00\n",
        "book_predicted_rating = lin1.predict([[book_predicted_price]])[0][0]\n",
        "book_predicted_rating"
      ]
    },
    {
      "cell_type": "code",
      "execution_count": null,
      "metadata": {
        "colab": {
          "base_uri": "https://localhost:8080/",
          "height": 346
        },
        "id": "KdBxYeGuAMGh",
        "outputId": "f2d0d6d3-ac53-45e3-e294-66fbe3361d88"
      },
      "outputs": [
        {
          "output_type": "display_data",
          "data": {
            "text/plain": [
              "<Figure size 500x300 with 1 Axes>"
            ],
            "image/png": "[encoded data removed]"
          },
          "metadata": {}
        }
      ],
      "source": [
        "df.plot(kind='scatter', x=\"book_price\", y='user_rating', figsize=(5,3), s=5)\n",
        "X=np.linspace(0, 35, 10)\n",
        "plt.plot(X, b + m*X, \"b\")\n",
        "plt.axis([0, 35, 0, 10])\n",
        "plt.text(0, -2, r\"b = 0.13\", fontsize=12, color=\"g\")\n",
        "plt.text(0, -3, r\"m = 0.36\", fontsize=12, color=\"b\")\n",
        "plt.plot([book_predicted_price, book_predicted_price], [0, book_predicted_rating], \"r-.\")\n",
        "plt.text(1, 9.0, r\"Prediction = 5.61\", fontsize=14, color=\"b\")\n",
        "plt.plot(book_predicted_price, book_predicted_rating, 'ro')\n",
        "plt.show()"
      ]
    },
    {
      "cell_type": "markdown",
      "metadata": {
        "id": "RnwdEedgig80"
      },
      "source": [
        "## Conclusiones\n",
        "\n",
        "Los resultados del análisis de regresión lineal simple muestran que existe una relación lineal positiva entre el rating del usuario y el precio del libro. Por lo tanto, el modelo puede utilizarse para predecir la opinión del futuro comprador del libro en función de su precio.\n",
        "\n",
        "La pendiente de 0.13126319271374243 significa que, para cada aumento de 1 euro en el precio de un libro, la opinión del usuario se espera que aumente en 0.13126319271374243 estrellas.\n",
        "\n",
        "La intersección de 0.36560488502426697 significa que, si el precio de un libro es 0 euros, la opinión del usuario se espera que sea de 0.36560488502426697 estrellas.\n",
        "\n",
        "En este caso, la pendiente es positiva, lo que significa que, en general, los usuarios tienden a dar mejores opiniones a los libros más caros. Esto podría deberse a que los libros más caros suelen ser de mayor calidad o que los usuarios esperan más de ellos."
      ]
    },
    {
      "cell_type": "markdown",
      "metadata": {
        "id": "A6zCgYy4jsol"
      },
      "source": [
        "## Recomendaciones\n",
        "\n",
        "Es importante tener en cuenta que esta es solo una predicción y que no siempre se cumplirá. Hay muchos otros factores que pueden influir en la opinión de un usuario, como la calidad del libro, la relevancia para el usuario o las expectativas del usuario.\n",
        "\n",
        "En base a esto, se podría utilizar un modelo de regresión lineal múltiple, que permite incluir más de una variable independiente en el modelo."
      ]
    }
  ],
  "metadata": {
    "colab": {
      "provenance": []
    },
    "kernelspec": {
      "display_name": "Python 3",
      "name": "python3"
    },
    "language_info": {
      "name": "python"
    }
  },
  "nbformat": 4,
  "nbformat_minor": 0
}